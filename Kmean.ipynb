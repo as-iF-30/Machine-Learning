{
 "cells": [
  {
   "cell_type": "code",
   "execution_count": 1,
   "metadata": {},
   "outputs": [],
   "source": [
    "import seaborn as sns\n",
    "import matplotlib.pyplot as plt\n",
    "%matplotlib inline"
   ]
  },
  {
   "cell_type": "code",
   "execution_count": 3,
   "metadata": {},
   "outputs": [],
   "source": [
    "from sklearn.datasets import make_blobs"
   ]
  },
  {
   "cell_type": "code",
   "execution_count": 15,
   "metadata": {},
   "outputs": [
    {
     "data": {
      "text/plain": [
       "(array([[  2.10636898,   4.6091009 ],\n",
       "        [ -9.82160444,  -4.82608993],\n",
       "        [  0.0760756 ,   0.83523148],\n",
       "        [ -1.05494754,   2.89584723],\n",
       "        [-10.73699778,  -8.20249087],\n",
       "        [ -0.44335605,   1.52382915],\n",
       "        [  4.71286377,   7.00772091],\n",
       "        [ -0.66529095,   1.61015124],\n",
       "        [-10.46009263,  -8.09442241],\n",
       "        [  0.51666786,   0.65447968],\n",
       "        [  2.5108403 ,   6.53270596],\n",
       "        [  0.9790905 ,   1.09403369],\n",
       "        [  0.96977807,   0.50825184],\n",
       "        [  4.64565991,   7.42415847],\n",
       "        [  4.24969887,   7.37623299],\n",
       "        [  0.96675957,   1.74299804],\n",
       "        [ -9.51981391,  -5.87100047],\n",
       "        [  1.28943071,  -0.72786055],\n",
       "        [-12.16751007,  -5.04700476],\n",
       "        [ -9.08697628,  -6.37329156],\n",
       "        [  4.25833395,   6.4874261 ],\n",
       "        [ -8.6283861 ,  -8.23710366],\n",
       "        [ -8.65854543,  -6.27535025],\n",
       "        [  3.55026388,   5.66470924],\n",
       "        [ -7.67850105,  -5.87402015],\n",
       "        [  0.9771203 ,   1.77229226],\n",
       "        [ -1.69019569,   2.15347379],\n",
       "        [-10.28537537,  -4.96675134],\n",
       "        [ -9.71577224,  -4.47902773],\n",
       "        [  3.68956487,   5.24480666],\n",
       "        [ -0.71880698,   2.70611631],\n",
       "        [ -0.67721436,   0.67156203],\n",
       "        [ -0.5979017 ,   3.27621588],\n",
       "        [ -9.71002568,  -5.50685646],\n",
       "        [ -9.63630777,  -4.07557669],\n",
       "        [  5.50452951,   5.36508359],\n",
       "        [  2.91955304,   7.65910669],\n",
       "        [  2.41398045,   7.67893945],\n",
       "        [ -9.03705471,  -7.20007351],\n",
       "        [  4.36656883,   6.34501645],\n",
       "        [-10.40190804,  -8.09189975],\n",
       "        [-10.98018657,  -6.13431395],\n",
       "        [  1.35395671,   1.25675383],\n",
       "        [-10.40586482,  -7.62441747],\n",
       "        [  3.39706792,   5.83587076],\n",
       "        [ -0.04854612,   1.64368808],\n",
       "        [  0.48975374,   2.24638106],\n",
       "        [  4.99576956,   5.19961789],\n",
       "        [  1.04876015,   0.1902697 ],\n",
       "        [  3.50983695,   6.02581779],\n",
       "        [ -7.84470308,  -5.63990903],\n",
       "        [ -1.057406  ,   0.08369168],\n",
       "        [-10.41329147,  -4.33801163],\n",
       "        [  5.21528665,   6.85262046],\n",
       "        [  2.93393983,   2.09686062],\n",
       "        [  0.16543782,   1.89916047],\n",
       "        [  3.56972712,   5.96727025],\n",
       "        [  3.83162537,   7.1439814 ],\n",
       "        [  2.61810374,   4.11017033],\n",
       "        [-10.01089845,  -5.36053959],\n",
       "        [ -9.25250638,  -7.19637228],\n",
       "        [-10.3587203 ,  -5.72266298],\n",
       "        [ -9.56242161,  -7.90465861],\n",
       "        [ -8.54148459,  -8.40882774],\n",
       "        [  1.93475242,   0.29764177],\n",
       "        [-10.66612973,  -7.36799484],\n",
       "        [  3.52363594,   6.07470179],\n",
       "        [ -8.52768961,  -7.10747603],\n",
       "        [-10.82203453,  -6.4220804 ],\n",
       "        [ -9.97777536,  -6.07283992],\n",
       "        [  0.21119924,   3.31510653],\n",
       "        [ -9.19351984,  -6.36878641],\n",
       "        [  1.15287938,   6.64601028],\n",
       "        [  1.05699629,   0.55026047],\n",
       "        [  3.73913002,   6.45772932],\n",
       "        [ -8.63638696,  -5.2098549 ],\n",
       "        [  4.89684441,   7.01857137],\n",
       "        [  1.82173091,   5.36379508],\n",
       "        [ -0.52010443,   2.01931709],\n",
       "        [  0.99429187,   0.87511711],\n",
       "        [ -7.40097129,  -7.61592526],\n",
       "        [ -8.44174263,  -6.05573415],\n",
       "        [ -8.22877144,  -7.39003004],\n",
       "        [  0.85678605,   0.8243512 ],\n",
       "        [  2.482819  ,   0.80309288],\n",
       "        [  0.29681207,   3.35328405],\n",
       "        [-10.15998181,  -7.28967662],\n",
       "        [ -1.3503111 ,   1.74732484],\n",
       "        [  1.1112886 ,   0.704398  ],\n",
       "        [  0.91481985,  -0.20799609],\n",
       "        [ -8.82165818,  -6.28309389],\n",
       "        [  4.01258551,   7.20786418],\n",
       "        [  1.00918185,   2.44847681],\n",
       "        [ -8.29681248,  -6.04138014],\n",
       "        [  1.99057703,   8.02798305],\n",
       "        [  4.62606481,   8.02707478],\n",
       "        [  5.79065553,   6.38611559],\n",
       "        [  3.9371488 ,   6.83334914],\n",
       "        [  1.32054601,   2.60559237],\n",
       "        [  0.3694325 ,   1.00229633],\n",
       "        [  0.47499933,   0.9339037 ],\n",
       "        [ -0.06318407,   2.4416449 ],\n",
       "        [  2.77693736,   8.39388742],\n",
       "        [  0.72046137,   1.63484242],\n",
       "        [ -8.67639404,  -7.34160752],\n",
       "        [  3.93562668,   7.29659525],\n",
       "        [ -9.46494711,  -5.88115845],\n",
       "        [-10.82880515,  -6.78887759],\n",
       "        [  0.51876688,   3.39210906],\n",
       "        [  4.11312608,   7.48578   ],\n",
       "        [  2.87437788,   6.18399594],\n",
       "        [ -9.27685464,  -6.40192863],\n",
       "        [ -9.34899211,  -6.98475799],\n",
       "        [  3.25966685,   7.36381102],\n",
       "        [  2.42421934,   7.9546687 ],\n",
       "        [  3.32767814,   8.63335714],\n",
       "        [  5.11272848,   6.73890806],\n",
       "        [ -0.80584461,   2.02382964],\n",
       "        [  6.4905493 ,   8.20168771],\n",
       "        [  0.56609951,   3.41000402],\n",
       "        [ -9.65039702,  -6.27677174],\n",
       "        [  0.71400287,   3.49737027],\n",
       "        [-10.19644555,  -5.60726771],\n",
       "        [  4.16896714,   4.47149521],\n",
       "        [  0.630638  ,   3.10707466],\n",
       "        [  1.19213743,  -0.14757971],\n",
       "        [  1.65297671,   6.51129114],\n",
       "        [  5.05734668,   6.93512013],\n",
       "        [  4.56918515,   5.9511966 ],\n",
       "        [  2.88863339,   6.80022386],\n",
       "        [  0.19313183,   1.80387958],\n",
       "        [ -8.30049742,  -5.67177056],\n",
       "        [ -9.81061897,  -8.23562605],\n",
       "        [  2.27878111,   7.93841269],\n",
       "        [ -9.24503648,  -7.56358517],\n",
       "        [  3.65433677,   6.23880923],\n",
       "        [-10.23335864,  -6.82304626],\n",
       "        [ -0.52722349,   2.95534215],\n",
       "        [ -9.60457201,  -5.78942716],\n",
       "        [ -9.72895121,  -6.5404254 ],\n",
       "        [ -9.10267073,  -5.89508169],\n",
       "        [  2.84723542,   6.45572701],\n",
       "        [  4.1648827 ,   7.26344994],\n",
       "        [ -7.26509435,  -7.83680705],\n",
       "        [  0.88674196,   2.43816202],\n",
       "        [  0.52549654,   3.716339  ],\n",
       "        [  6.30677973,   6.06538529],\n",
       "        [  2.84784335,   6.30444207],\n",
       "        [  2.2044984 ,   7.73629418],\n",
       "        [  4.35067201,   6.38030016],\n",
       "        [ -1.37811338,   0.25423232],\n",
       "        [  0.96907519,   5.6927844 ],\n",
       "        [ -1.64463255,   0.5464667 ],\n",
       "        [  4.95848327,   5.62958992],\n",
       "        [ -9.98139147,  -5.6275219 ],\n",
       "        [ -8.56691987,  -7.64615738],\n",
       "        [-10.51163375,  -6.56992184],\n",
       "        [ -0.24060881,   2.82068999],\n",
       "        [ -8.17061178,  -7.01746523],\n",
       "        [  0.49487719,   1.5978536 ],\n",
       "        [  0.51509708,   0.68050659],\n",
       "        [  2.16314691,   5.85682768],\n",
       "        [  1.00550767,   1.43945722],\n",
       "        [  5.37455053,   8.15808496],\n",
       "        [ -0.16913147,   0.65928204],\n",
       "        [  2.28459016,   6.99959684],\n",
       "        [  3.82012051,   6.30944976],\n",
       "        [  0.29639341,   2.06317757],\n",
       "        [  3.23678335,   7.53803429],\n",
       "        [  1.13567847,   1.48631141],\n",
       "        [  4.12295146,   7.95120661],\n",
       "        [  3.21062216,   6.74970722],\n",
       "        [ -0.61543385,   1.89810338],\n",
       "        [  3.56427341,   6.76346606],\n",
       "        [ -8.59616095,  -6.70999871],\n",
       "        [  3.91977383,   6.4374273 ],\n",
       "        [ -9.55589627,  -7.515155  ],\n",
       "        [ -8.42645932,  -5.53765102],\n",
       "        [  4.46128183,   8.436059  ],\n",
       "        [  0.63360407,   1.65652935],\n",
       "        [  1.30369223,   1.02511304],\n",
       "        [  3.71905904,   4.5214496 ],\n",
       "        [ -0.75249891,   2.31574949],\n",
       "        [-10.52820849,  -8.4775757 ],\n",
       "        [ -0.20449797,   3.53107912],\n",
       "        [ -9.09964985,  -7.63261577],\n",
       "        [ -9.33688749,  -5.32875426],\n",
       "        [ -0.42735279,   1.06693323],\n",
       "        [ -9.37685401,  -8.68467997],\n",
       "        [ -9.16430869,  -6.15698671],\n",
       "        [  3.8246846 ,   7.34365184],\n",
       "        [  5.5605068 ,   7.18018759],\n",
       "        [ -9.8137736 ,  -6.97888536],\n",
       "        [ -0.60526466,   2.36840825],\n",
       "        [-10.83964115,  -5.69865986],\n",
       "        [ -9.33981673,  -5.24785153],\n",
       "        [ -9.47619195,  -6.55714589],\n",
       "        [ -0.80867204,   1.41371822],\n",
       "        [ -0.47667896,   1.66689978],\n",
       "        [ -1.13954147,   0.91925638]]),\n",
       " array([2, 1, 0, 0, 1, 0, 2, 0, 1, 0, 2, 0, 0, 2, 2, 0, 1, 0, 1, 1, 2, 1,\n",
       "        1, 2, 1, 0, 0, 1, 1, 2, 0, 0, 0, 1, 1, 2, 2, 2, 1, 2, 1, 1, 0, 1,\n",
       "        2, 0, 0, 2, 0, 2, 1, 0, 1, 2, 0, 0, 2, 2, 2, 1, 1, 1, 1, 1, 0, 1,\n",
       "        2, 1, 1, 1, 0, 1, 2, 0, 2, 1, 2, 2, 0, 0, 1, 1, 1, 0, 0, 0, 1, 0,\n",
       "        0, 0, 1, 2, 0, 1, 2, 2, 2, 2, 0, 0, 0, 0, 2, 0, 1, 2, 1, 1, 0, 2,\n",
       "        2, 1, 1, 2, 2, 2, 2, 0, 2, 0, 1, 0, 1, 2, 0, 0, 2, 2, 2, 2, 0, 1,\n",
       "        1, 2, 1, 2, 1, 0, 1, 1, 1, 2, 2, 1, 0, 0, 2, 2, 2, 2, 0, 2, 0, 2,\n",
       "        1, 1, 1, 0, 1, 0, 0, 2, 0, 2, 0, 2, 2, 0, 2, 0, 2, 2, 0, 2, 1, 2,\n",
       "        1, 1, 2, 0, 0, 2, 0, 1, 0, 1, 1, 0, 1, 1, 2, 2, 1, 0, 1, 1, 1, 0,\n",
       "        0, 0]))"
      ]
     },
     "execution_count": 15,
     "metadata": {},
     "output_type": "execute_result"
    }
   ],
   "source": [
    "data =make_blobs(n_samples=200,n_features=2,random_state=101)\n",
    "data"
   ]
  },
  {
   "cell_type": "code",
   "execution_count": 7,
   "metadata": {},
   "outputs": [
    {
     "data": {
      "text/plain": [
       "<matplotlib.collections.PathCollection at 0x15ae110f390>"
      ]
     },
     "execution_count": 7,
     "metadata": {},
     "output_type": "execute_result"
    },
    {
     "data": {
      "image/png": "[encoded data removed]",
      "text/plain": [
       "<Figure size 432x288 with 1 Axes>"
      ]
     },
     "metadata": {
      "needs_background": "light"
     },
     "output_type": "display_data"
    }
   ],
   "source": [
    "plt.scatter(data[0][:,0],data[0][:,1],c=data[1],cmap='rainbow')"
   ]
  },
  {
   "cell_type": "code",
   "execution_count": 8,
   "metadata": {},
   "outputs": [],
   "source": [
    "from sklearn.cluster import KMeans"
   ]
  },
  {
   "cell_type": "code",
   "execution_count": 16,
   "metadata": {},
   "outputs": [],
   "source": [
    "kmeans =KMeans(n_clusters=2)"
   ]
  },
  {
   "cell_type": "code",
   "execution_count": 17,
   "metadata": {},
   "outputs": [
    {
     "data": {
      "text/plain": [
       "KMeans(algorithm='auto', copy_x=True, init='k-means++', max_iter=300,\n",
       "    n_clusters=2, n_init=10, n_jobs=None, precompute_distances='auto',\n",
       "    random_state=None, tol=0.0001, verbose=0)"
      ]
     },
     "execution_count": 17,
     "metadata": {},
     "output_type": "execute_result"
    }
   ],
   "source": [
    "kmeans.fit(data[0])"
   ]
  },
  {
   "cell_type": "code",
   "execution_count": 18,
   "metadata": {},
   "outputs": [
    {
     "data": {
      "text/plain": [
       "array([[ 1.96619632,  4.15439318],\n",
       "       [-9.45681289, -6.53284643]])"
      ]
     },
     "execution_count": 18,
     "metadata": {},
     "output_type": "execute_result"
    }
   ],
   "source": [
    "kmeans.cluster_centers_"
   ]
  },
  {
   "cell_type": "code",
   "execution_count": null,
   "metadata": {},
   "outputs": [],
   "source": []
  }
 ],
 "metadata": {
  "kernelspec": {
   "display_name": "Python 3",
   "language": "python",
   "name": "python3"
  },
  "language_info": {
   "codemirror_mode": {
    "name": "ipython",
    "version": 3
   },
   "file_extension": ".py",
   "mimetype": "text/x-python",
   "name": "python",
   "nbconvert_exporter": "python",
   "pygments_lexer": "ipython3",
   "version": "3.7.3"
  }
 },
 "nbformat": 4,
 "nbformat_minor": 2
}
